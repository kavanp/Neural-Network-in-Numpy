{
 "cells": [
  {
   "cell_type": "markdown",
   "metadata": {},
   "source": [
    "# Neural Network in Numpy"
   ]
  },
  {
   "cell_type": "markdown",
   "metadata": {},
   "source": [
    "Below is the class to initialize our Neural Network with given input, output and hidden layer size."
   ]
  },
  {
   "cell_type": "code",
   "execution_count": 1,
   "metadata": {},
   "outputs": [],
   "source": [
    "class Neural_Network (object):\n",
    "    def __init__(self,i,j,k):\n",
    "        #define hyperparameters\n",
    "        self.inputLayerSize = i\n",
    "        self.outputLayerSize = j\n",
    "        self.hiddenLayerSize = k\n",
    "\n",
    "        #randomly initialize weights according to input, hidden and output layer size\n",
    "        self.W1 = np.random.rand(self.inputLayerSize,self.hiddenLayerSize)\n",
    "        self.W2 = np.random.rand(self.hiddenLayerSize,self.outputLayerSize)\n",
    "\n",
    "    def forward(self,X):\n",
    "        # A forward function that calculates output of the network with given input data\n",
    "        self.z2 = np.dot(X,self.W1)\n",
    "        self.a2 = self.sigmoid(self.z2) #An activation function defined below\n",
    "        self.z3 = np.dot(self.a2,self.W2)\n",
    "        yHat = self.sigmoid(self.z3)\n",
    "        return yHat\n",
    "\n",
    "    def sigmoid(self,z):\n",
    "        #sigmoid activation function to intoduce non-linearity\n",
    "        return 1/(1+np.exp(-z))\n",
    "\n",
    "    def sigmoidprime(self,z):\n",
    "        # Derivative of sigmoid function, this will be used to while backpropagating the error during Gradient Descent\n",
    "        return np.exp(-z)/(1+np.exp(-z)**2)\n",
    "\n",
    "    def costFunction (self,X,y):\n",
    "        #Calculate error\n",
    "        self.yHat = self.forward(X)\n",
    "        return 1/2*sum((y-self.yHat)**2)\n",
    "\n",
    "    def costFunctionPrime (self,X,y):\n",
    "        # Calculate derivative of error with respect to each weight, I recommend to refer the math behind below calculations         \n",
    "        self.yHat = self.forward(X)\n",
    "\n",
    "        delta3 = np.multiply(-(y - self.yHat),self.sigmoidprime(self.z3))\n",
    "        dJdW2 = np.dot(self.a2.T,delta3) #Change in error with respect to change in W2\n",
    "\n",
    "        delta2 = np.dot(delta3,self.W2.T)*self.sigmoidprime(self.z2)\n",
    "        dJdW1 = np.dot(X.T,delta2) #Change in error with respect to change in W1 \n",
    "\n",
    "        return dJdW1,dJdW2\n"
   ]
  },
  {
   "cell_type": "markdown",
   "metadata": {},
   "source": [
    "#### Define input and out for an OR gate"
   ]
  },
  {
   "cell_type": "code",
   "execution_count": 4,
   "metadata": {},
   "outputs": [],
   "source": [
    "import numpy as np\n",
    "\n",
    "X = np.array([[0,0],[0,1],[1,0],[1,1]])\n",
    "Y = np.array([[0],[1],[1],[1]])"
   ]
  },
  {
   "cell_type": "markdown",
   "metadata": {},
   "source": [
    "#### Define and Train out network on above input and output data"
   ]
  },
  {
   "cell_type": "code",
   "execution_count": 5,
   "metadata": {},
   "outputs": [],
   "source": [
    "NeuralNet = Neural_Network(2,1,3)\n",
    "\n",
    "#Update the weights according to Gradient Descent.\n",
    "for i in range(10000):\n",
    "    djdw1,djdw2 = NeuralNet.costFunctionPrime(X,Y)\n",
    "    NeuralNet.W1 = NeuralNet.W1 - 0.1*djdw1\n",
    "    NeuralNet.W2 = NeuralNet.W2 - 0.1*djdw2"
   ]
  },
  {
   "cell_type": "markdown",
   "metadata": {},
   "source": [
    "#### Make predictions"
   ]
  },
  {
   "cell_type": "code",
   "execution_count": 9,
   "metadata": {},
   "outputs": [
    {
     "data": {
      "text/plain": [
       "array([[0.06286133],\n",
       "       [0.9676299 ],\n",
       "       [0.96777805],\n",
       "       [0.98069555]])"
      ]
     },
     "execution_count": 9,
     "metadata": {},
     "output_type": "execute_result"
    }
   ],
   "source": [
    "NeuralNet.forward([[0,0],[0,1],[1,0],[1,1]])"
   ]
  },
  {
   "cell_type": "markdown",
   "metadata": {},
   "source": [
    "As we can see, the output is almost 0,1,1,1 as in the case with an OR gate. Similary we can fit any function given with proper training data. "
   ]
  },
  {
   "cell_type": "code",
   "execution_count": null,
   "metadata": {},
   "outputs": [],
   "source": []
  }
 ],
 "metadata": {
  "kernelspec": {
   "display_name": "Python 3",
   "language": "python",
   "name": "python3"
  },
  "language_info": {
   "codemirror_mode": {
    "name": "ipython",
    "version": 3
   },
   "file_extension": ".py",
   "mimetype": "text/x-python",
   "name": "python",
   "nbconvert_exporter": "python",
   "pygments_lexer": "ipython3",
   "version": "3.5.2"
  }
 },
 "nbformat": 4,
 "nbformat_minor": 2
}
